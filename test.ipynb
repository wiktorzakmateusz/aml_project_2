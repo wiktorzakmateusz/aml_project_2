{
 "cells": [
  {
   "cell_type": "code",
   "id": "initial_id",
   "metadata": {
    "collapsed": true,
    "ExecuteTime": {
     "end_time": "2025-05-25T12:40:22.874179Z",
     "start_time": "2025-05-25T12:40:21.724343Z"
    }
   },
   "source": [
    "import pandas as pd\n",
    "import numpy as np\n",
    "from sklearn.linear_model import LogisticRegression\n",
    "from sklearn.ensemble import RandomForestClassifier\n",
    "from xgboost import XGBClassifier\n",
    "from sklearn.svm import SVC\n",
    "from sklearn.metrics import accuracy_score\n",
    "from sklearn.model_selection import train_test_split\n",
    "from sklearn.preprocessing import StandardScaler\n",
    "import matplotlib.pyplot as plt\n",
    "from metrics import custom_score, ultimate_score"
   ],
   "outputs": [],
   "execution_count": 1
  },
  {
   "metadata": {
    "ExecuteTime": {
     "end_time": "2025-05-25T12:43:00.504933Z",
     "start_time": "2025-05-25T12:42:59.813112Z"
    }
   },
   "cell_type": "code",
   "source": [
    "df = pd.read_csv(\"data/x_train.txt\", sep=\" \", header=None)\n",
    "print(df.head())\n",
    "print(df.shape)\n",
    "\n",
    "y = pd.read_csv(\"data/y_train.txt\", sep=\" \", header=None)\n",
    "y = np.array(y).ravel()\n",
    "print(y[:5])\n",
    "print(y.shape)\n",
    "\n",
    "df_test = pd.read_csv(\"data/x_test.txt\", sep=\" \", header=None)\n",
    "print(df_test.head())\n",
    "print(df_test.shape)"
   ],
   "id": "e0bf3ce353fb3675",
   "outputs": [
    {
     "name": "stdout",
     "output_type": "stream",
     "text": [
      "         0          1          2          3          4          5    \\\n",
      "0  20.454647  16.739345  39.811892  24.955468  27.088535  17.116793   \n",
      "1  16.175225  10.483281  27.471017  18.509824  19.045353  15.039082   \n",
      "2  10.577212  10.795115  24.621388  17.264747  14.221610   8.754692   \n",
      "3  26.299206  13.471215  51.725934  40.786947  26.052414  33.200702   \n",
      "4  23.193955  20.037969  37.780290  28.983748  25.510508  15.970348   \n",
      "\n",
      "         6          7          8          9    ...        490        491  \\\n",
      "0  25.166957  23.364508  17.223886  18.339175  ...  13.235314   5.160379   \n",
      "1  21.354915  15.790575  13.912508  13.772518  ...  13.355832   2.609716   \n",
      "2  18.399259  11.358798  15.432650  14.842153  ...  15.179359  10.200144   \n",
      "3  51.014330  27.685009  33.107991  25.359457  ...   7.693654   6.359187   \n",
      "4  27.930757  20.707354  25.341768  27.118987  ...   7.068407   7.180632   \n",
      "\n",
      "         492        493        494        495        496        497  \\\n",
      "0  29.194846  17.298314   6.414267   7.780568   6.840910  18.295197   \n",
      "1   8.624576   9.371632  11.789219   9.205471  15.204468   8.358906   \n",
      "2  12.645303  12.147416   8.899863  13.954543  12.356942  16.364696   \n",
      "3   5.760296   5.699580   9.895795  17.011648  12.031000  14.637973   \n",
      "4  12.517752   9.026493   7.748172  10.363749   7.099588  12.467672   \n",
      "\n",
      "         498        499  \n",
      "0  10.014028   6.938318  \n",
      "1   8.529152   8.021473  \n",
      "2   3.817956   4.094035  \n",
      "3  10.172737  10.525373  \n",
      "4  11.545619   9.098600  \n",
      "\n",
      "[5 rows x 500 columns]\n",
      "(5000, 500)\n",
      "[1 0 0 1 1]\n",
      "(5000,)\n",
      "         0          1          2          3          4          5    \\\n",
      "0  15.272229  12.383736  23.421789  18.234164  16.504150  10.858884   \n",
      "1  15.150687  11.155039  23.365730  16.098506  17.118423   9.517809   \n",
      "2  20.532590  17.673425  44.203329  32.318650  24.923189  18.182689   \n",
      "3  18.082444  11.496502  25.076668  17.245630  19.659644  12.536566   \n",
      "4  16.297583  14.315022  29.338386  19.018626  20.220139  10.703003   \n",
      "\n",
      "         6          7          8          9    ...        490        491  \\\n",
      "0  16.918372  14.638439  14.415173  17.008610  ...  15.661472   3.486174   \n",
      "1  19.575843  11.544085  11.643254  17.774514  ...   6.800168   2.630594   \n",
      "2  34.756173  21.133809  26.373261  24.269275  ...  14.616700   6.691675   \n",
      "3  20.166658  15.903530  10.371137  17.488474  ...  10.041044  15.715148   \n",
      "4  19.754327  15.426747  15.061053  18.649160  ...  12.419345  10.265497   \n",
      "\n",
      "         492        493        494        495        496        497  \\\n",
      "0  15.093774   9.780219  15.838865   8.052995  10.851504   6.701190   \n",
      "1  12.984558  10.114105   8.400919  12.442415   7.675212   9.589895   \n",
      "2  13.714673   7.526913  18.530727  11.540775   2.646883  11.290970   \n",
      "3  14.753265   7.190841   2.644574  15.953037   9.382105   5.275145   \n",
      "4  12.806726   7.088403   5.773088   7.764526  18.658999   5.485400   \n",
      "\n",
      "         498       499  \n",
      "0   6.087926  7.121288  \n",
      "1   7.057678  8.614979  \n",
      "2  19.884869  9.208848  \n",
      "3  12.260497  1.748694  \n",
      "4   9.721090  5.749169  \n",
      "\n",
      "[5 rows x 500 columns]\n",
      "(5000, 500)\n"
     ]
    }
   ],
   "execution_count": 2
  },
  {
   "metadata": {
    "ExecuteTime": {
     "end_time": "2025-05-20T15:12:59.326169Z",
     "start_time": "2025-05-20T15:12:59.323088Z"
    }
   },
   "cell_type": "code",
   "source": [
    "# Possible feature selection methods:\n",
    "# based on feature importance\n",
    "# Recursive Feature Elimination\n",
    "# forward/backward selection (with ultimate score function)\n",
    "# filters: SelectKBest - mutual information/correlation, chi2"
   ],
   "id": "b154f5fa62f0fdc7",
   "outputs": [],
   "execution_count": 1
  },
  {
   "metadata": {
    "ExecuteTime": {
     "end_time": "2025-05-25T13:00:15.587976Z",
     "start_time": "2025-05-25T13:00:15.550991Z"
    }
   },
   "cell_type": "code",
   "source": [
    "X_train, X_test, y_train, y_test = train_test_split(df, y, test_size=0.3, random_state=42, stratify=y)\n",
    "scaler = StandardScaler()\n",
    "X_train = scaler.fit_transform(X_train)\n",
    "X_test = scaler.transform(X_test)"
   ],
   "id": "353687c3dba06db5",
   "outputs": [],
   "execution_count": 4
  },
  {
   "metadata": {
    "ExecuteTime": {
     "end_time": "2025-05-25T13:00:15.926393Z",
     "start_time": "2025-05-25T13:00:15.912394Z"
    }
   },
   "cell_type": "code",
   "source": [
    "df_test.shape[0]\n",
    "# we want to identify 1000 ones in 5000 dataset (there should be about 2500 ones there - balanced)\n",
    "\n",
    "k_test = int(1000 / df_test.shape[0] * X_test.shape[0]) # equivalently, we want look for 300 ones in X_test\n",
    "k_test"
   ],
   "id": "b0687607691688a7",
   "outputs": [
    {
     "data": {
      "text/plain": [
       "300"
      ]
     },
     "execution_count": 5,
     "metadata": {},
     "output_type": "execute_result"
    }
   ],
   "execution_count": 5
  },
  {
   "metadata": {},
   "cell_type": "markdown",
   "source": "## Logistic regression",
   "id": "64653724ffcb6ca"
  },
  {
   "metadata": {
    "ExecuteTime": {
     "end_time": "2025-05-25T13:00:57.777075Z",
     "start_time": "2025-05-25T13:00:57.756731Z"
    }
   },
   "cell_type": "code",
   "source": [
    "lr = LogisticRegression()\n",
    "lr.fit(X_train, y_train)\n",
    "\n",
    "prob = lr.predict_proba(X_test)\n",
    "pred = lr.predict(X_test)\n",
    "\n",
    "print(f\"accuracy: {accuracy_score(y_test, pred)}\")\n",
    "print(f\"score: {custom_score(y_test, prob, k_test)}\")\n",
    "print(f\"ultimate score: {ultimate_score(y_test, prob, k_test, X_test.shape[1])}\")"
   ],
   "id": "a3feabddcb64b477",
   "outputs": [
    {
     "name": "stdout",
     "output_type": "stream",
     "text": [
      "accuracy: 0.6\n",
      "score: 0.6833333333333333\n",
      "ultimate score: -93170.0\n"
     ]
    }
   ],
   "execution_count": 7
  },
  {
   "metadata": {},
   "cell_type": "markdown",
   "source": "## Random forest",
   "id": "a442a587023200aa"
  },
  {
   "metadata": {
    "ExecuteTime": {
     "end_time": "2025-05-25T13:01:22.503415Z",
     "start_time": "2025-05-25T13:01:22.290997Z"
    }
   },
   "cell_type": "code",
   "source": [
    "rf = RandomForestClassifier(n_estimators=100, max_depth=5, n_jobs=-1, random_state=42)\n",
    "rf.fit(X_train, y_train)\n",
    "\n",
    "prob = rf.predict_proba(X_test)\n",
    "pred = rf.predict(X_test)\n",
    "\n",
    "print(f\"accuracy: {accuracy_score(y_test, pred)}\")\n",
    "print(f\"score: {custom_score(y_test, prob, k_test)}\")\n",
    "print(f\"ultimate score: {ultimate_score(y_test, prob, k_test, X_test.shape[1])}\")"
   ],
   "id": "d3de1103fb66c411",
   "outputs": [
    {
     "name": "stdout",
     "output_type": "stream",
     "text": [
      "accuracy: 0.696\n",
      "score: 0.7466666666666667\n",
      "ultimate score: -92540.0\n"
     ]
    }
   ],
   "execution_count": 8
  },
  {
   "metadata": {
    "ExecuteTime": {
     "end_time": "2025-05-25T14:55:37.310599Z",
     "start_time": "2025-05-25T14:55:37.284071Z"
    }
   },
   "cell_type": "code",
   "source": [
    "importances = rf.feature_importances_\n",
    "\n",
    "feature_names = np.arange(X_train.shape[1])\n",
    "\n",
    "feature_importance_df = pd.DataFrame({\n",
    "    'feature': feature_names,\n",
    "    'importance': importances\n",
    "})\n",
    "\n",
    "feature_importance_df = feature_importance_df.sort_values(by='importance', ascending=False).reset_index(drop=True)\n",
    "print(feature_importance_df)\n",
    "\n",
    "features = np.array(feature_importance_df.feature)"
   ],
   "id": "8bde731dd3c4ab60",
   "outputs": [
    {
     "name": "stdout",
     "output_type": "stream",
     "text": [
      "     feature  importance\n",
      "0          0    0.084783\n",
      "1          1    0.066899\n",
      "2          6    0.059203\n",
      "3          2    0.055466\n",
      "4          3    0.050226\n",
      "..       ...         ...\n",
      "495      416    0.000000\n",
      "496      364    0.000000\n",
      "497      273    0.000000\n",
      "498      496    0.000000\n",
      "499      202    0.000000\n",
      "\n",
      "[500 rows x 2 columns]\n"
     ]
    }
   ],
   "execution_count": 28
  },
  {
   "metadata": {
    "ExecuteTime": {
     "end_time": "2025-05-25T14:56:56.552770Z",
     "start_time": "2025-05-25T14:55:39.168910Z"
    }
   },
   "cell_type": "code",
   "source": [
    "scores = []\n",
    "ultimate_scores = []\n",
    "n_features = np.arange(1, len(features) + 1)\n",
    "\n",
    "for i in n_features:\n",
    "    selected_features = features[:i]\n",
    "    X_train_filtered = X_train[:, selected_features]\n",
    "    X_test_filtered = X_test[:, selected_features]\n",
    "    \n",
    "    rf = RandomForestClassifier(n_estimators=100, max_depth=5, n_jobs=-1, random_state=42)\n",
    "    rf.fit(X_train_filtered, y_train)\n",
    "    prob = rf.predict_proba(X_test_filtered)\n",
    "    \n",
    "    score = custom_score(y_test, prob, k_test)\n",
    "    scores.append(score)\n",
    "    ult_score = ultimate_score(y_test, prob, k_test, i)\n",
    "    ultimate_scores.append(ult_score)"
   ],
   "id": "eda1386ac8205319",
   "outputs": [],
   "execution_count": 29
  },
  {
   "metadata": {
    "ExecuteTime": {
     "end_time": "2025-05-25T14:57:00.780075Z",
     "start_time": "2025-05-25T14:57:00.727958Z"
    }
   },
   "cell_type": "code",
   "source": [
    "plt.plot(n_features, scores)\n",
    "plt.plot(n_features, ultimate_scores)\n",
    "plt.legend(['score', 'ultimate_score'])\n",
    "plt.show()"
   ],
   "id": "5bdbb2bc55f4a83f",
   "outputs": [
    {
     "data": {
      "text/plain": [
       "<Figure size 640x480 with 1 Axes>"
      ],
      "image/png": "[encoded data removed]"
     },
     "metadata": {},
     "output_type": "display_data"
    }
   ],
   "execution_count": 30
  },
  {
   "metadata": {
    "ExecuteTime": {
     "end_time": "2025-05-25T14:57:03.790400Z",
     "start_time": "2025-05-25T14:57:03.773759Z"
    }
   },
   "cell_type": "code",
   "source": [
    "print(f\"max score: {np.max(ultimate_scores)}\")\n",
    "print(f\"no. of features: {n_features[np.argmax(ultimate_scores)]}\")"
   ],
   "id": "73b7d778d7f836f6",
   "outputs": [
    {
     "name": "stdout",
     "output_type": "stream",
     "text": [
      "max score: 6560.0\n",
      "no. of features: 3\n"
     ]
    }
   ],
   "execution_count": 31
  },
  {
   "metadata": {},
   "cell_type": "markdown",
   "source": "## XGBoost",
   "id": "3bee8543b797a839"
  },
  {
   "metadata": {
    "ExecuteTime": {
     "end_time": "2025-05-20T15:07:27.459544300Z",
     "start_time": "2025-05-20T14:54:11.566344Z"
    }
   },
   "cell_type": "code",
   "source": [
    "xgb = XGBClassifier(n_estimators=100, max_depth=5, n_jobs=-1, random_state=42)\n",
    "xgb.fit(X_train, y_train)\n",
    "\n",
    "prob = xgb.predict_proba(X_test)\n",
    "pred = xgb.predict(X_test)\n",
    "\n",
    "print(f\"accuracy: {accuracy_score(y_test, pred)}\")\n",
    "print(f\"score: {custom_score(y_test, prob, k_test)}\")"
   ],
   "id": "e10ff8e789458c54",
   "outputs": [
    {
     "name": "stdout",
     "output_type": "stream",
     "text": [
      "accuracy: 0.6813333333333333\n",
      "objective function: 0.7066666666666667\n"
     ]
    }
   ],
   "execution_count": 56
  },
  {
   "metadata": {
    "ExecuteTime": {
     "end_time": "2025-05-20T15:07:27.459544300Z",
     "start_time": "2025-05-05T17:03:06.764334Z"
    }
   },
   "cell_type": "code",
   "source": [
    "importances = xgb.feature_importances_\n",
    "\n",
    "feature_names = np.arange(X_train.shape[1])\n",
    "\n",
    "feature_importance_df = pd.DataFrame({\n",
    "    'feature': feature_names,\n",
    "    'importance': importances\n",
    "})\n",
    "\n",
    "feature_importance_df = feature_importance_df.sort_values(by='importance', ascending=False)\n",
    "print(feature_importance_df)\n",
    "\n",
    "features = np.array(feature_importance_df.feature)"
   ],
   "id": "73f657bbf8775d32",
   "outputs": [
    {
     "name": "stdout",
     "output_type": "stream",
     "text": [
      "     feature  importance\n",
      "2          2    0.022566\n",
      "376      376    0.009113\n",
      "4          4    0.006247\n",
      "288      288    0.005461\n",
      "202      202    0.005405\n",
      "..       ...         ...\n",
      "316      316    0.000000\n",
      "305      305    0.000000\n",
      "299      299    0.000000\n",
      "297      297    0.000000\n",
      "133      133    0.000000\n",
      "\n",
      "[500 rows x 2 columns]\n"
     ]
    }
   ],
   "execution_count": 16
  },
  {
   "metadata": {
    "ExecuteTime": {
     "end_time": "2025-05-20T15:07:27.459544300Z",
     "start_time": "2025-05-05T17:03:15.500137Z"
    }
   },
   "cell_type": "code",
   "source": [
    "results = []\n",
    "n_features = np.arange(1, len(features) + 1)\n",
    "\n",
    "for i in n_features:\n",
    "    selected_features = features[:i]\n",
    "    X_train_filtered = X_train[:, selected_features]\n",
    "    X_test_filtered = X_test[:, selected_features]\n",
    "    \n",
    "    xgb = XGBClassifier(n_estimators=100, max_depth=5, n_jobs=-1, random_state=42)\n",
    "    xgb.fit(X_train_filtered, y_train)\n",
    "    pred = xgb.predict(X_test_filtered)\n",
    "    acc = accuracy_score(y_test, pred)\n",
    "\n",
    "    results.append(acc)"
   ],
   "id": "365b9d6c8af3ec55",
   "outputs": [],
   "execution_count": 18
  },
  {
   "metadata": {
    "ExecuteTime": {
     "end_time": "2025-05-20T15:07:27.459544300Z",
     "start_time": "2025-05-05T17:06:34.509609Z"
    }
   },
   "cell_type": "code",
   "source": [
    "plt.plot(n_features, results)\n",
    "plt.show()"
   ],
   "id": "1e3e6b3e8e5ced38",
   "outputs": [
    {
     "data": {
      "text/plain": [
       "<Figure size 640x480 with 1 Axes>"
      ],
      "image/png": "[encoded data removed]"
     },
     "metadata": {},
     "output_type": "display_data"
    }
   ],
   "execution_count": 19
  },
  {
   "metadata": {
    "ExecuteTime": {
     "end_time": "2025-05-20T15:07:27.459544300Z",
     "start_time": "2025-05-05T17:06:37.389937Z"
    }
   },
   "cell_type": "code",
   "source": [
    "print(np.max(results))\n",
    "print(np.argmax(results))"
   ],
   "id": "4e6fa6248912cce5",
   "outputs": [
    {
     "name": "stdout",
     "output_type": "stream",
     "text": [
      "0.7053333333333334\n",
      "213\n"
     ]
    }
   ],
   "execution_count": 20
  },
  {
   "metadata": {
    "ExecuteTime": {
     "end_time": "2025-05-20T15:07:27.459544300Z",
     "start_time": "2025-05-05T17:06:38.209546Z"
    }
   },
   "cell_type": "code",
   "source": [
    "pred = xgb.predict(df_test.iloc[:, selected_features])\n",
    "# number of ones\n",
    "# pred(len(np.where(pred == 1)))\n",
    "len(np.where(pred == 1)[0])"
   ],
   "id": "ea906dd7d3949e4c",
   "outputs": [
    {
     "data": {
      "text/plain": [
       "4499"
      ]
     },
     "execution_count": 21,
     "metadata": {},
     "output_type": "execute_result"
    }
   ],
   "execution_count": 21
  },
  {
   "metadata": {},
   "cell_type": "markdown",
   "source": "## SVM",
   "id": "24b366878276ed41"
  },
  {
   "metadata": {
    "ExecuteTime": {
     "end_time": "2025-05-20T15:07:27.459544300Z",
     "start_time": "2025-05-20T14:55:39.617693Z"
    }
   },
   "cell_type": "code",
   "source": [
    "svm = SVC(kernel='linear', random_state=42, probability=True)\n",
    "svm.fit(X_train, y_train)\n",
    "\n",
    "prob = svm.predict_proba(X_test)\n",
    "pred = svm.predict(X_test)\n",
    "\n",
    "print(f\"accuracy: {accuracy_score(y_test, pred)}\")\n",
    "print(f\"score: {custom_score(y_test, prob, k_test)}\")"
   ],
   "id": "f0e0fd6e463a9eb3",
   "outputs": [
    {
     "name": "stdout",
     "output_type": "stream",
     "text": [
      "accuracy: 0.6086666666666667\n",
      "objective function: 0.69\n"
     ]
    }
   ],
   "execution_count": 58
  }
 ],
 "metadata": {
  "kernelspec": {
   "display_name": "Python 3",
   "language": "python",
   "name": "python3"
  },
  "language_info": {
   "codemirror_mode": {
    "name": "ipython",
    "version": 2
   },
   "file_extension": ".py",
   "mimetype": "text/x-python",
   "name": "python",
   "nbconvert_exporter": "python",
   "pygments_lexer": "ipython2",
   "version": "2.7.6"
  }
 },
 "nbformat": 4,
 "nbformat_minor": 5
}
