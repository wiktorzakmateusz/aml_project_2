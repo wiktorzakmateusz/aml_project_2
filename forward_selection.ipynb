{
 "cells": [
  {
   "metadata": {
    "ExecuteTime": {
     "end_time": "2025-06-02T18:14:38.329715Z",
     "start_time": "2025-06-02T18:14:34.638783Z"
    }
   },
   "cell_type": "code",
   "source": [
    "import pandas as pd\n",
    "import numpy as np\n",
    "from sklearn.linear_model import LogisticRegression\n",
    "from sklearn.ensemble import RandomForestClassifier\n",
    "from xgboost import XGBClassifier\n",
    "from sklearn.svm import SVC\n",
    "from sklearn.neighbors import KNeighborsClassifier\n",
    "from sklearn.naive_bayes import GaussianNB\n",
    "from sklearn.model_selection import train_test_split\n",
    "from sklearn.preprocessing import StandardScaler\n",
    "import matplotlib.pyplot as plt\n",
    "from metrics import custom_score, ultimate_score\n",
    "\n",
    "random_seed = 42\n",
    "np.random.seed(random_seed)"
   ],
   "id": "46b188862a356696",
   "outputs": [],
   "execution_count": 1
  },
  {
   "metadata": {
    "ExecuteTime": {
     "end_time": "2025-05-26T18:33:44.429992Z",
     "start_time": "2025-05-26T18:33:44.427156Z"
    }
   },
   "cell_type": "code",
   "source": [
    "# usually (for 1 feature) there is about 7200 revenue\n",
    "# for perfect prediction, we may obtain such a result using at most 14 features\n",
    "MAX_FEATURES = 14\n",
    "n_features = np.arange(1, MAX_FEATURES + 1)"
   ],
   "id": "19387a8204134074",
   "outputs": [],
   "execution_count": 2
  },
  {
   "metadata": {},
   "cell_type": "markdown",
   "source": "# Loading data",
   "id": "8b2bc102d90705d1"
  },
  {
   "metadata": {
    "ExecuteTime": {
     "end_time": "2025-06-02T18:14:38.797148Z",
     "start_time": "2025-06-02T18:14:38.331653Z"
    }
   },
   "cell_type": "code",
   "source": [
    "df = pd.read_csv(\"data/x_train.txt\", sep=\" \", header=None)\n",
    "print(df.shape)\n",
    "\n",
    "y = pd.read_csv(\"data/y_train.txt\", sep=\" \", header=None)\n",
    "y = np.array(y).ravel()\n",
    "print(y.shape)\n",
    "\n",
    "df_test = pd.read_csv(\"data/x_test.txt\", sep=\" \", header=None)\n",
    "print(df_test.shape)"
   ],
   "id": "7ed6d088a5220340",
   "outputs": [
    {
     "name": "stdout",
     "output_type": "stream",
     "text": [
      "(5000, 500)\n",
      "(5000,)\n",
      "(5000, 500)\n"
     ]
    }
   ],
   "execution_count": 2
  },
  {
   "metadata": {
    "ExecuteTime": {
     "end_time": "2025-05-26T18:33:45.016670Z",
     "start_time": "2025-05-26T18:33:44.987314Z"
    }
   },
   "cell_type": "code",
   "source": [
    "# splitting data\n",
    "X_train, X_test, y_train, y_test = train_test_split(df, y, test_size=0.3, random_state=42, stratify=y)\n",
    "scaler = StandardScaler()\n",
    "X_train = scaler.fit_transform(X_train)\n",
    "X_test = scaler.transform(X_test)"
   ],
   "id": "66fec8062f80c16e",
   "outputs": [],
   "execution_count": 4
  },
  {
   "metadata": {
    "ExecuteTime": {
     "end_time": "2025-05-26T18:33:45.033225Z",
     "start_time": "2025-05-26T18:33:45.029808Z"
    }
   },
   "cell_type": "code",
   "source": [
    "# computing k to predict\n",
    "\n",
    "# df_test.shape[0]\n",
    "# we want to identify 1000 ones in 5000 dataset (there should be about 2500 ones there - balanced)\n",
    "\n",
    "k_test = int(1000 / df_test.shape[0] * X_test.shape[0]) # equivalently, we want look for 300 ones in X_test\n",
    "k_test"
   ],
   "id": "41b51ba5f3781af",
   "outputs": [
    {
     "data": {
      "text/plain": [
       "300"
      ]
     },
     "execution_count": 5,
     "metadata": {},
     "output_type": "execute_result"
    }
   ],
   "execution_count": 5
  },
  {
   "metadata": {
    "ExecuteTime": {
     "end_time": "2025-05-26T18:33:45.049790Z",
     "start_time": "2025-05-26T18:33:45.044787Z"
    }
   },
   "cell_type": "code",
   "source": [
    "def forward_feature_selection(X_train, y_train, X_test, y_test, init_model, max_features=MAX_FEATURES, **kwargs):\n",
    "    all_scores = []\n",
    "    selected_features = []\n",
    "    best_selected_features = []\n",
    "    remaining_features = list(range(X_train.shape[1]))\n",
    "    best_score = -np.inf\n",
    "    candidate_features = []\n",
    "\n",
    "    while len(remaining_features) > 0 and len(selected_features) < min(MAX_FEATURES, max_features):\n",
    "        scores = []\n",
    "        for feature in remaining_features:\n",
    "            candidate_features = selected_features + [feature]\n",
    "            # candidate_features = np.concatenate((selected_features, [feature])).astype(int)\n",
    "            X_train_selected = X_train[:, candidate_features]\n",
    "            X_test_selected = X_test[:, candidate_features]\n",
    "            \n",
    "            model = init_model(**kwargs)\n",
    "            model.fit(X_train_selected, y_train)\n",
    "            y_test_probs = model.predict_proba(X_test_selected)\n",
    "            \n",
    "            score = ultimate_score(y_test, y_test_probs, k_test, len(candidate_features))\n",
    "            scores.append((score, feature))\n",
    "        \n",
    "        scores.sort(reverse=True)\n",
    "        best_candidate_score, best_candidate_feature = scores[0]\n",
    "\n",
    "        selected_features.append(best_candidate_feature)\n",
    "        remaining_features.remove(best_candidate_feature)\n",
    "\n",
    "        if best_candidate_score > best_score:\n",
    "            best_score = best_candidate_score\n",
    "            best_selected_features = selected_features.copy()\n",
    "            print(f\"Selected: {best_selected_features}, Score: {best_score:.4f}\")\n",
    "        else:\n",
    "            print(f\"No improvement, {len(candidate_features)} features, score: {best_candidate_score}\")\n",
    "        all_scores.append(best_candidate_score)\n",
    "        \n",
    "    return best_selected_features, all_scores"
   ],
   "id": "1d8e62c8ff85f7ce",
   "outputs": [],
   "execution_count": 6
  },
  {
   "metadata": {},
   "cell_type": "markdown",
   "source": "# Forward selection",
   "id": "2d894da28f94be32"
  },
  {
   "metadata": {
    "ExecuteTime": {
     "end_time": "2025-05-26T18:32:31.112501Z",
     "start_time": "2025-05-26T18:31:44.300806Z"
    }
   },
   "cell_type": "code",
   "source": [
    "# LR\n",
    "best_selected_features, all_scores = forward_feature_selection(X_train, y_train, X_test, y_test, LogisticRegression, random_state=random_seed)\n",
    "print(f\"selected features: {best_selected_features}\")\n",
    "\n",
    "plt.plot(np.arange(len(all_scores)), all_scores)\n",
    "plt.show()"
   ],
   "id": "d0d69491b245cd47",
   "outputs": [
    {
     "name": "stdout",
     "output_type": "stream",
     "text": [
      "Selected: [8], Score: 7300.0000\n",
      "No improvement, 2 features, score: 7230.0\n",
      "No improvement, 3 features, score: 7100.0\n",
      "No improvement, 4 features, score: 6960.0\n",
      "No improvement, 5 features, score: 6800.0\n",
      "No improvement, 6 features, score: 6630.0\n",
      "No improvement, 7 features, score: 6460.0\n",
      "No improvement, 8 features, score: 6260.0\n",
      "No improvement, 9 features, score: 6060.0\n",
      "No improvement, 10 features, score: 5860.0\n",
      "No improvement, 11 features, score: 5660.0\n",
      "No improvement, 12 features, score: 5460.0\n",
      "No improvement, 13 features, score: 5260.0\n",
      "No improvement, 14 features, score: 5060.0\n",
      "No improvement, 15 features, score: 4860.0\n",
      "selected features: [8]\n"
     ]
    },
    {
     "data": {
      "text/plain": [
       "<Figure size 640x480 with 1 Axes>"
      ],
      "image/png": "[encoded data removed]"
     },
     "metadata": {},
     "output_type": "display_data"
    }
   ],
   "execution_count": 61
  },
  {
   "metadata": {
    "ExecuteTime": {
     "end_time": "2025-05-26T18:57:05.579909Z",
     "start_time": "2025-05-26T18:33:45.061850Z"
    }
   },
   "cell_type": "code",
   "source": [
    "# RF\n",
    "best_selected_features, all_scores = forward_feature_selection(X_train, y_train, X_test, y_test, RandomForestClassifier, n_estimators=100, max_depth=5, n_jobs=-1, random_state=random_seed)\n",
    "print(f\"selected features: {best_selected_features}\")\n",
    "\n",
    "plt.plot(np.arange(len(all_scores)), all_scores)\n",
    "plt.show()"
   ],
   "id": "41cb72698dc598ba",
   "outputs": [
    {
     "name": "stdout",
     "output_type": "stream",
     "text": [
      "Selected: [8], Score: 7230.0000\n",
      "Selected: [8, 246], Score: 7300.0000\n",
      "No improvement, 3 features, score: 7100.0\n",
      "No improvement, 4 features, score: 7000.0\n",
      "No improvement, 5 features, score: 6800.0\n",
      "No improvement, 6 features, score: 6630.0\n",
      "No improvement, 7 features, score: 6500.0\n",
      "No improvement, 8 features, score: 6300.0\n",
      "No improvement, 9 features, score: 6230.0\n",
      "No improvement, 10 features, score: 6060.0\n",
      "No improvement, 11 features, score: 5730.0\n",
      "No improvement, 12 features, score: 5530.0\n",
      "No improvement, 13 features, score: 5400.0\n",
      "No improvement, 14 features, score: 4960.0\n",
      "No improvement, 15 features, score: 4900.0\n",
      "selected features: [8, 246]\n"
     ]
    },
    {
     "data": {
      "text/plain": [
       "<Figure size 640x480 with 1 Axes>"
      ],
      "image/png": "[encoded data removed]"
     },
     "metadata": {},
     "output_type": "display_data"
    }
   ],
   "execution_count": 7
  },
  {
   "metadata": {
    "ExecuteTime": {
     "end_time": "2025-05-26T19:04:02.267957Z",
     "start_time": "2025-05-26T18:57:05.605734Z"
    }
   },
   "cell_type": "code",
   "source": [
    "# XGB\n",
    "best_selected_features, all_scores = forward_feature_selection(X_train, y_train, X_test, y_test, XGBClassifier, n_estimators=100, max_depth=5, n_jobs=-1, random_state=random_seed)\n",
    "print(f\"selected features: {best_selected_features}\")\n",
    "\n",
    "plt.plot(np.arange(len(all_scores)), all_scores)\n",
    "plt.show()"
   ],
   "id": "1f819bf1a1ace1e0",
   "outputs": [
    {
     "name": "stdout",
     "output_type": "stream",
     "text": [
      "Selected: [3], Score: 7100.0000\n",
      "No improvement, 2 features, score: 7030.0\n",
      "No improvement, 3 features, score: 6960.0\n",
      "No improvement, 4 features, score: 6800.0\n",
      "No improvement, 5 features, score: 6600.0\n",
      "No improvement, 6 features, score: 6630.0\n",
      "No improvement, 7 features, score: 6130.0\n",
      "No improvement, 8 features, score: 6030.0\n",
      "No improvement, 9 features, score: 5800.0\n",
      "No improvement, 10 features, score: 5630.0\n",
      "No improvement, 11 features, score: 5400.0\n",
      "No improvement, 12 features, score: 5460.0\n",
      "No improvement, 13 features, score: 5260.0\n",
      "No improvement, 14 features, score: 5130.0\n",
      "No improvement, 15 features, score: 4860.0\n",
      "selected features: [3]\n"
     ]
    },
    {
     "data": {
      "text/plain": [
       "<Figure size 640x480 with 1 Axes>"
      ],
      "image/png": "[encoded data removed]"
     },
     "metadata": {},
     "output_type": "display_data"
    }
   ],
   "execution_count": 8
  },
  {
   "metadata": {
    "ExecuteTime": {
     "end_time": "2025-05-26T22:24:21.550443Z",
     "start_time": "2025-05-26T19:04:02.304345Z"
    }
   },
   "cell_type": "code",
   "source": [
    "# SVM\n",
    "best_selected_features, all_scores = forward_feature_selection(X_train, y_train, X_test, y_test, SVC, kernel='linear', probability=True, random_state=random_seed)\n",
    "print(f\"selected features: {best_selected_features}\")\n",
    "\n",
    "plt.plot(np.arange(len(all_scores)), all_scores)\n",
    "plt.show()"
   ],
   "id": "c727476b15aa60b8",
   "outputs": [
    {
     "name": "stdout",
     "output_type": "stream",
     "text": [
      "Selected: [8], Score: 7300.0000\n",
      "No improvement, 2 features, score: 7200.0\n",
      "No improvement, 3 features, score: 7060.0\n",
      "No improvement, 4 features, score: 6900.0\n",
      "No improvement, 5 features, score: 6730.0\n",
      "No improvement, 6 features, score: 6630.0\n",
      "No improvement, 7 features, score: 6430.0\n",
      "No improvement, 8 features, score: 6230.0\n",
      "No improvement, 9 features, score: 6060.0\n",
      "No improvement, 10 features, score: 5860.0\n",
      "No improvement, 11 features, score: 5660.0\n",
      "No improvement, 12 features, score: 5460.0\n",
      "No improvement, 13 features, score: 5260.0\n",
      "No improvement, 14 features, score: 5060.0\n",
      "No improvement, 15 features, score: 4860.0\n",
      "selected features: [8]\n"
     ]
    },
    {
     "data": {
      "text/plain": [
       "<Figure size 640x480 with 1 Axes>"
      ],
      "image/png": "[encoded data removed]"
     },
     "metadata": {},
     "output_type": "display_data"
    }
   ],
   "execution_count": 9
  },
  {
   "metadata": {},
   "cell_type": "markdown",
   "source": "# Saving results",
   "id": "ebc0e337537b3b7b"
  },
  {
   "metadata": {
    "ExecuteTime": {
     "end_time": "2025-06-02T18:18:05.708478Z",
     "start_time": "2025-06-02T18:18:05.705430Z"
    }
   },
   "cell_type": "code",
   "source": [
    "# preparing data\n",
    "X = df.values[:, [8, 246]]\n",
    "# y\n",
    "X_test = df_test.values[:, [8, 246]]\n",
    "k_test = 1000"
   ],
   "id": "3d9bcb68eafdf0b5",
   "outputs": [],
   "execution_count": 13
  },
  {
   "metadata": {
    "ExecuteTime": {
     "end_time": "2025-06-02T18:16:58.303550Z",
     "start_time": "2025-06-02T18:16:58.186035Z"
    }
   },
   "cell_type": "code",
   "source": [
    "# training RF on full set\n",
    "rf = RandomForestClassifier(n_estimators=100, max_depth=5, n_jobs=-1, random_state=random_seed)\n",
    "rf.fit(X, y)"
   ],
   "id": "2276d7dfe097422c",
   "outputs": [
    {
     "data": {
      "text/plain": [
       "RandomForestClassifier(max_depth=5, n_jobs=-1, random_state=42)"
      ],
      "text/html": [
       "<style>#sk-container-id-1 {\n",
       "  /* Definition of color scheme common for light and dark mode */\n",
       "  --sklearn-color-text: black;\n",
       "  --sklearn-color-line: gray;\n",
       "  /* Definition of color scheme for unfitted estimators */\n",
       "  --sklearn-color-unfitted-level-0: #fff5e6;\n",
       "  --sklearn-color-unfitted-level-1: #f6e4d2;\n",
       "  --sklearn-color-unfitted-level-2: #ffe0b3;\n",
       "  --sklearn-color-unfitted-level-3: chocolate;\n",
       "  /* Definition of color scheme for fitted estimators */\n",
       "  --sklearn-color-fitted-level-0: #f0f8ff;\n",
       "  --sklearn-color-fitted-level-1: #d4ebff;\n",
       "  --sklearn-color-fitted-level-2: #b3dbfd;\n",
       "  --sklearn-color-fitted-level-3: cornflowerblue;\n",
       "\n",
       "  /* Specific color for light theme */\n",
       "  --sklearn-color-text-on-default-background: var(--sg-text-color, var(--theme-code-foreground, var(--jp-content-font-color1, black)));\n",
       "  --sklearn-color-background: var(--sg-background-color, var(--theme-background, var(--jp-layout-color0, white)));\n",
       "  --sklearn-color-border-box: var(--sg-text-color, var(--theme-code-foreground, var(--jp-content-font-color1, black)));\n",
       "  --sklearn-color-icon: #696969;\n",
       "\n",
       "  @media (prefers-color-scheme: dark) {\n",
       "    /* Redefinition of color scheme for dark theme */\n",
       "    --sklearn-color-text-on-default-background: var(--sg-text-color, var(--theme-code-foreground, var(--jp-content-font-color1, white)));\n",
       "    --sklearn-color-background: var(--sg-background-color, var(--theme-background, var(--jp-layout-color0, #111)));\n",
       "    --sklearn-color-border-box: var(--sg-text-color, var(--theme-code-foreground, var(--jp-content-font-color1, white)));\n",
       "    --sklearn-color-icon: #878787;\n",
       "  }\n",
       "}\n",
       "\n",
       "#sk-container-id-1 {\n",
       "  color: var(--sklearn-color-text);\n",
       "}\n",
       "\n",
       "#sk-container-id-1 pre {\n",
       "  padding: 0;\n",
       "}\n",
       "\n",
       "#sk-container-id-1 input.sk-hidden--visually {\n",
       "  border: 0;\n",
       "  clip: rect(1px 1px 1px 1px);\n",
       "  clip: rect(1px, 1px, 1px, 1px);\n",
       "  height: 1px;\n",
       "  margin: -1px;\n",
       "  overflow: hidden;\n",
       "  padding: 0;\n",
       "  position: absolute;\n",
       "  width: 1px;\n",
       "}\n",
       "\n",
       "#sk-container-id-1 div.sk-dashed-wrapped {\n",
       "  border: 1px dashed var(--sklearn-color-line);\n",
       "  margin: 0 0.4em 0.5em 0.4em;\n",
       "  box-sizing: border-box;\n",
       "  padding-bottom: 0.4em;\n",
       "  background-color: var(--sklearn-color-background);\n",
       "}\n",
       "\n",
       "#sk-container-id-1 div.sk-container {\n",
       "  /* jupyter's `normalize.less` sets `[hidden] { display: none; }`\n",
       "     but bootstrap.min.css set `[hidden] { display: none !important; }`\n",
       "     so we also need the `!important` here to be able to override the\n",
       "     default hidden behavior on the sphinx rendered scikit-learn.org.\n",
       "     See: https://github.com/scikit-learn/scikit-learn/issues/21755 */\n",
       "  display: inline-block !important;\n",
       "  position: relative;\n",
       "}\n",
       "\n",
       "#sk-container-id-1 div.sk-text-repr-fallback {\n",
       "  display: none;\n",
       "}\n",
       "\n",
       "div.sk-parallel-item,\n",
       "div.sk-serial,\n",
       "div.sk-item {\n",
       "  /* draw centered vertical line to link estimators */\n",
       "  background-image: linear-gradient(var(--sklearn-color-text-on-default-background), var(--sklearn-color-text-on-default-background));\n",
       "  background-size: 2px 100%;\n",
       "  background-repeat: no-repeat;\n",
       "  background-position: center center;\n",
       "}\n",
       "\n",
       "/* Parallel-specific style estimator block */\n",
       "\n",
       "#sk-container-id-1 div.sk-parallel-item::after {\n",
       "  content: \"\";\n",
       "  width: 100%;\n",
       "  border-bottom: 2px solid var(--sklearn-color-text-on-default-background);\n",
       "  flex-grow: 1;\n",
       "}\n",
       "\n",
       "#sk-container-id-1 div.sk-parallel {\n",
       "  display: flex;\n",
       "  align-items: stretch;\n",
       "  justify-content: center;\n",
       "  background-color: var(--sklearn-color-background);\n",
       "  position: relative;\n",
       "}\n",
       "\n",
       "#sk-container-id-1 div.sk-parallel-item {\n",
       "  display: flex;\n",
       "  flex-direction: column;\n",
       "}\n",
       "\n",
       "#sk-container-id-1 div.sk-parallel-item:first-child::after {\n",
       "  align-self: flex-end;\n",
       "  width: 50%;\n",
       "}\n",
       "\n",
       "#sk-container-id-1 div.sk-parallel-item:last-child::after {\n",
       "  align-self: flex-start;\n",
       "  width: 50%;\n",
       "}\n",
       "\n",
       "#sk-container-id-1 div.sk-parallel-item:only-child::after {\n",
       "  width: 0;\n",
       "}\n",
       "\n",
       "/* Serial-specific style estimator block */\n",
       "\n",
       "#sk-container-id-1 div.sk-serial {\n",
       "  display: flex;\n",
       "  flex-direction: column;\n",
       "  align-items: center;\n",
       "  background-color: var(--sklearn-color-background);\n",
       "  padding-right: 1em;\n",
       "  padding-left: 1em;\n",
       "}\n",
       "\n",
       "\n",
       "/* Toggleable style: style used for estimator/Pipeline/ColumnTransformer box that is\n",
       "clickable and can be expanded/collapsed.\n",
       "- Pipeline and ColumnTransformer use this feature and define the default style\n",
       "- Estimators will overwrite some part of the style using the `sk-estimator` class\n",
       "*/\n",
       "\n",
       "/* Pipeline and ColumnTransformer style (default) */\n",
       "\n",
       "#sk-container-id-1 div.sk-toggleable {\n",
       "  /* Default theme specific background. It is overwritten whether we have a\n",
       "  specific estimator or a Pipeline/ColumnTransformer */\n",
       "  background-color: var(--sklearn-color-background);\n",
       "}\n",
       "\n",
       "/* Toggleable label */\n",
       "#sk-container-id-1 label.sk-toggleable__label {\n",
       "  cursor: pointer;\n",
       "  display: block;\n",
       "  width: 100%;\n",
       "  margin-bottom: 0;\n",
       "  padding: 0.5em;\n",
       "  box-sizing: border-box;\n",
       "  text-align: center;\n",
       "}\n",
       "\n",
       "#sk-container-id-1 label.sk-toggleable__label-arrow:before {\n",
       "  /* Arrow on the left of the label */\n",
       "  content: \"▸\";\n",
       "  float: left;\n",
       "  margin-right: 0.25em;\n",
       "  color: var(--sklearn-color-icon);\n",
       "}\n",
       "\n",
       "#sk-container-id-1 label.sk-toggleable__label-arrow:hover:before {\n",
       "  color: var(--sklearn-color-text);\n",
       "}\n",
       "\n",
       "/* Toggleable content - dropdown */\n",
       "\n",
       "#sk-container-id-1 div.sk-toggleable__content {\n",
       "  max-height: 0;\n",
       "  max-width: 0;\n",
       "  overflow: hidden;\n",
       "  text-align: left;\n",
       "  /* unfitted */\n",
       "  background-color: var(--sklearn-color-unfitted-level-0);\n",
       "}\n",
       "\n",
       "#sk-container-id-1 div.sk-toggleable__content.fitted {\n",
       "  /* fitted */\n",
       "  background-color: var(--sklearn-color-fitted-level-0);\n",
       "}\n",
       "\n",
       "#sk-container-id-1 div.sk-toggleable__content pre {\n",
       "  margin: 0.2em;\n",
       "  border-radius: 0.25em;\n",
       "  color: var(--sklearn-color-text);\n",
       "  /* unfitted */\n",
       "  background-color: var(--sklearn-color-unfitted-level-0);\n",
       "}\n",
       "\n",
       "#sk-container-id-1 div.sk-toggleable__content.fitted pre {\n",
       "  /* unfitted */\n",
       "  background-color: var(--sklearn-color-fitted-level-0);\n",
       "}\n",
       "\n",
       "#sk-container-id-1 input.sk-toggleable__control:checked~div.sk-toggleable__content {\n",
       "  /* Expand drop-down */\n",
       "  max-height: 200px;\n",
       "  max-width: 100%;\n",
       "  overflow: auto;\n",
       "}\n",
       "\n",
       "#sk-container-id-1 input.sk-toggleable__control:checked~label.sk-toggleable__label-arrow:before {\n",
       "  content: \"▾\";\n",
       "}\n",
       "\n",
       "/* Pipeline/ColumnTransformer-specific style */\n",
       "\n",
       "#sk-container-id-1 div.sk-label input.sk-toggleable__control:checked~label.sk-toggleable__label {\n",
       "  color: var(--sklearn-color-text);\n",
       "  background-color: var(--sklearn-color-unfitted-level-2);\n",
       "}\n",
       "\n",
       "#sk-container-id-1 div.sk-label.fitted input.sk-toggleable__control:checked~label.sk-toggleable__label {\n",
       "  background-color: var(--sklearn-color-fitted-level-2);\n",
       "}\n",
       "\n",
       "/* Estimator-specific style */\n",
       "\n",
       "/* Colorize estimator box */\n",
       "#sk-container-id-1 div.sk-estimator input.sk-toggleable__control:checked~label.sk-toggleable__label {\n",
       "  /* unfitted */\n",
       "  background-color: var(--sklearn-color-unfitted-level-2);\n",
       "}\n",
       "\n",
       "#sk-container-id-1 div.sk-estimator.fitted input.sk-toggleable__control:checked~label.sk-toggleable__label {\n",
       "  /* fitted */\n",
       "  background-color: var(--sklearn-color-fitted-level-2);\n",
       "}\n",
       "\n",
       "#sk-container-id-1 div.sk-label label.sk-toggleable__label,\n",
       "#sk-container-id-1 div.sk-label label {\n",
       "  /* The background is the default theme color */\n",
       "  color: var(--sklearn-color-text-on-default-background);\n",
       "}\n",
       "\n",
       "/* On hover, darken the color of the background */\n",
       "#sk-container-id-1 div.sk-label:hover label.sk-toggleable__label {\n",
       "  color: var(--sklearn-color-text);\n",
       "  background-color: var(--sklearn-color-unfitted-level-2);\n",
       "}\n",
       "\n",
       "/* Label box, darken color on hover, fitted */\n",
       "#sk-container-id-1 div.sk-label.fitted:hover label.sk-toggleable__label.fitted {\n",
       "  color: var(--sklearn-color-text);\n",
       "  background-color: var(--sklearn-color-fitted-level-2);\n",
       "}\n",
       "\n",
       "/* Estimator label */\n",
       "\n",
       "#sk-container-id-1 div.sk-label label {\n",
       "  font-family: monospace;\n",
       "  font-weight: bold;\n",
       "  display: inline-block;\n",
       "  line-height: 1.2em;\n",
       "}\n",
       "\n",
       "#sk-container-id-1 div.sk-label-container {\n",
       "  text-align: center;\n",
       "}\n",
       "\n",
       "/* Estimator-specific */\n",
       "#sk-container-id-1 div.sk-estimator {\n",
       "  font-family: monospace;\n",
       "  border: 1px dotted var(--sklearn-color-border-box);\n",
       "  border-radius: 0.25em;\n",
       "  box-sizing: border-box;\n",
       "  margin-bottom: 0.5em;\n",
       "  /* unfitted */\n",
       "  background-color: var(--sklearn-color-unfitted-level-0);\n",
       "}\n",
       "\n",
       "#sk-container-id-1 div.sk-estimator.fitted {\n",
       "  /* fitted */\n",
       "  background-color: var(--sklearn-color-fitted-level-0);\n",
       "}\n",
       "\n",
       "/* on hover */\n",
       "#sk-container-id-1 div.sk-estimator:hover {\n",
       "  /* unfitted */\n",
       "  background-color: var(--sklearn-color-unfitted-level-2);\n",
       "}\n",
       "\n",
       "#sk-container-id-1 div.sk-estimator.fitted:hover {\n",
       "  /* fitted */\n",
       "  background-color: var(--sklearn-color-fitted-level-2);\n",
       "}\n",
       "\n",
       "/* Specification for estimator info (e.g. \"i\" and \"?\") */\n",
       "\n",
       "/* Common style for \"i\" and \"?\" */\n",
       "\n",
       ".sk-estimator-doc-link,\n",
       "a:link.sk-estimator-doc-link,\n",
       "a:visited.sk-estimator-doc-link {\n",
       "  float: right;\n",
       "  font-size: smaller;\n",
       "  line-height: 1em;\n",
       "  font-family: monospace;\n",
       "  background-color: var(--sklearn-color-background);\n",
       "  border-radius: 1em;\n",
       "  height: 1em;\n",
       "  width: 1em;\n",
       "  text-decoration: none !important;\n",
       "  margin-left: 1ex;\n",
       "  /* unfitted */\n",
       "  border: var(--sklearn-color-unfitted-level-1) 1pt solid;\n",
       "  color: var(--sklearn-color-unfitted-level-1);\n",
       "}\n",
       "\n",
       ".sk-estimator-doc-link.fitted,\n",
       "a:link.sk-estimator-doc-link.fitted,\n",
       "a:visited.sk-estimator-doc-link.fitted {\n",
       "  /* fitted */\n",
       "  border: var(--sklearn-color-fitted-level-1) 1pt solid;\n",
       "  color: var(--sklearn-color-fitted-level-1);\n",
       "}\n",
       "\n",
       "/* On hover */\n",
       "div.sk-estimator:hover .sk-estimator-doc-link:hover,\n",
       ".sk-estimator-doc-link:hover,\n",
       "div.sk-label-container:hover .sk-estimator-doc-link:hover,\n",
       ".sk-estimator-doc-link:hover {\n",
       "  /* unfitted */\n",
       "  background-color: var(--sklearn-color-unfitted-level-3);\n",
       "  color: var(--sklearn-color-background);\n",
       "  text-decoration: none;\n",
       "}\n",
       "\n",
       "div.sk-estimator.fitted:hover .sk-estimator-doc-link.fitted:hover,\n",
       ".sk-estimator-doc-link.fitted:hover,\n",
       "div.sk-label-container:hover .sk-estimator-doc-link.fitted:hover,\n",
       ".sk-estimator-doc-link.fitted:hover {\n",
       "  /* fitted */\n",
       "  background-color: var(--sklearn-color-fitted-level-3);\n",
       "  color: var(--sklearn-color-background);\n",
       "  text-decoration: none;\n",
       "}\n",
       "\n",
       "/* Span, style for the box shown on hovering the info icon */\n",
       ".sk-estimator-doc-link span {\n",
       "  display: none;\n",
       "  z-index: 9999;\n",
       "  position: relative;\n",
       "  font-weight: normal;\n",
       "  right: .2ex;\n",
       "  padding: .5ex;\n",
       "  margin: .5ex;\n",
       "  width: min-content;\n",
       "  min-width: 20ex;\n",
       "  max-width: 50ex;\n",
       "  color: var(--sklearn-color-text);\n",
       "  box-shadow: 2pt 2pt 4pt #999;\n",
       "  /* unfitted */\n",
       "  background: var(--sklearn-color-unfitted-level-0);\n",
       "  border: .5pt solid var(--sklearn-color-unfitted-level-3);\n",
       "}\n",
       "\n",
       ".sk-estimator-doc-link.fitted span {\n",
       "  /* fitted */\n",
       "  background: var(--sklearn-color-fitted-level-0);\n",
       "  border: var(--sklearn-color-fitted-level-3);\n",
       "}\n",
       "\n",
       ".sk-estimator-doc-link:hover span {\n",
       "  display: block;\n",
       "}\n",
       "\n",
       "/* \"?\"-specific style due to the `<a>` HTML tag */\n",
       "\n",
       "#sk-container-id-1 a.estimator_doc_link {\n",
       "  float: right;\n",
       "  font-size: 1rem;\n",
       "  line-height: 1em;\n",
       "  font-family: monospace;\n",
       "  background-color: var(--sklearn-color-background);\n",
       "  border-radius: 1rem;\n",
       "  height: 1rem;\n",
       "  width: 1rem;\n",
       "  text-decoration: none;\n",
       "  /* unfitted */\n",
       "  color: var(--sklearn-color-unfitted-level-1);\n",
       "  border: var(--sklearn-color-unfitted-level-1) 1pt solid;\n",
       "}\n",
       "\n",
       "#sk-container-id-1 a.estimator_doc_link.fitted {\n",
       "  /* fitted */\n",
       "  border: var(--sklearn-color-fitted-level-1) 1pt solid;\n",
       "  color: var(--sklearn-color-fitted-level-1);\n",
       "}\n",
       "\n",
       "/* On hover */\n",
       "#sk-container-id-1 a.estimator_doc_link:hover {\n",
       "  /* unfitted */\n",
       "  background-color: var(--sklearn-color-unfitted-level-3);\n",
       "  color: var(--sklearn-color-background);\n",
       "  text-decoration: none;\n",
       "}\n",
       "\n",
       "#sk-container-id-1 a.estimator_doc_link.fitted:hover {\n",
       "  /* fitted */\n",
       "  background-color: var(--sklearn-color-fitted-level-3);\n",
       "}\n",
       "</style><div id=\"sk-container-id-1\" class=\"sk-top-container\"><div class=\"sk-text-repr-fallback\"><pre>RandomForestClassifier(max_depth=5, n_jobs=-1, random_state=42)</pre><b>In a Jupyter environment, please rerun this cell to show the HTML representation or trust the notebook. <br />On GitHub, the HTML representation is unable to render, please try loading this page with nbviewer.org.</b></div><div class=\"sk-container\" hidden><div class=\"sk-item\"><div class=\"sk-estimator fitted sk-toggleable\"><input class=\"sk-toggleable__control sk-hidden--visually\" id=\"sk-estimator-id-1\" type=\"checkbox\" checked><label for=\"sk-estimator-id-1\" class=\"sk-toggleable__label fitted sk-toggleable__label-arrow fitted\">&nbsp;&nbsp;RandomForestClassifier<a class=\"sk-estimator-doc-link fitted\" rel=\"noreferrer\" target=\"_blank\" href=\"https://scikit-learn.org/1.5/modules/generated/sklearn.ensemble.RandomForestClassifier.html\">?<span>Documentation for RandomForestClassifier</span></a><span class=\"sk-estimator-doc-link fitted\">i<span>Fitted</span></span></label><div class=\"sk-toggleable__content fitted\"><pre>RandomForestClassifier(max_depth=5, n_jobs=-1, random_state=42)</pre></div> </div></div></div></div>"
      ]
     },
     "execution_count": 12,
     "metadata": {},
     "output_type": "execute_result"
    }
   ],
   "execution_count": 12
  },
  {
   "metadata": {
    "ExecuteTime": {
     "end_time": "2025-06-02T18:23:27.683726Z",
     "start_time": "2025-06-02T18:23:27.657977Z"
    }
   },
   "cell_type": "code",
   "source": [
    "# predicting ones\n",
    "y_pred_probs = rf.predict_proba(X_test)\n",
    "top_k_indices = np.argsort(y_pred_probs[:, 1])[::-1][:k_test]\n",
    "# saving results\n",
    "np.savetxt('solutions/320657_obs.txt', top_k_indices, fmt='%d')"
   ],
   "id": "c838461e07116efa",
   "outputs": [],
   "execution_count": 17
  },
  {
   "metadata": {
    "ExecuteTime": {
     "end_time": "2025-06-02T18:24:04.299297Z",
     "start_time": "2025-06-02T18:24:04.295260Z"
    }
   },
   "cell_type": "code",
   "source": "top_k_indices",
   "id": "97f61172aeaf8b63",
   "outputs": [
    {
     "data": {
      "text/plain": [
       "array([  62, 3576, 4068, 3447, 4856, 4192, 2712, 2916, 1014, 4915,  632,\n",
       "       3526, 2726,   75, 2349, 4673,  394, 3793, 4873,  335,  313, 3521,\n",
       "       4043, 2054, 3595, 3483, 2997, 4008, 4246, 1699, 4640,  331,  894,\n",
       "       1283, 3846,  208,  101, 4539,  237, 4220, 1016,  584, 1182, 4875,\n",
       "       3962, 4534, 3898,  287, 1375, 1980, 1300,  889, 3515, 2780, 2063,\n",
       "       1537, 1235,   80, 1842, 3347, 1197, 3588, 3767, 2469, 4642, 1520,\n",
       "       1756, 1233, 1868, 1611, 3996, 1105, 1830, 1704, 2620,  712, 1737,\n",
       "       3535,  943, 3538, 4148, 2837, 3201, 2109, 3439, 4904, 4911, 4498,\n",
       "       3921, 1873, 2815, 3570, 4859, 3403, 4651, 4883, 3052, 2334, 2412,\n",
       "       4627, 2444, 1877, 1991, 1848,  200, 1903, 2235, 2791, 3761, 1983,\n",
       "        149, 4271, 3151, 3844, 2126, 1135, 4997, 3015,  801,  566, 3762,\n",
       "       4491, 1569, 3080, 1254,  512, 1493,  743,  873, 3149, 3441, 1053,\n",
       "        107, 1180, 4910, 3598, 3037, 2489, 1132, 1506, 4013,  415, 4123,\n",
       "       3965, 4484, 1723, 3394,  724, 2470,    2, 2216, 1243, 1892, 4786,\n",
       "         72, 3925, 4601, 2243, 2796,  230, 2405, 3333,  977, 1587, 1550,\n",
       "       3456, 3517, 4479, 2424,   84, 2962, 2466, 2267, 3139, 2604, 4671,\n",
       "       4938,  576, 2014, 3833,  129, 1962,  987, 3803, 3929, 2821, 4693,\n",
       "       4419, 4652, 4990, 1349, 4079, 4337, 4831, 1640, 2826, 4197, 1879,\n",
       "       2261, 3301, 4952, 2994, 1047,   88, 4814,   96, 4452, 3856, 1703,\n",
       "       4365,  279, 2861,  322, 3802, 1992,  896, 4289, 4235, 2481, 2554,\n",
       "        371,  549, 4790, 3219,  219, 1256, 1504, 2651, 3977, 4972, 2271,\n",
       "       4475, 1517, 1818, 3353, 4953, 2792, 3249, 2642, 2700, 3000, 4252,\n",
       "        254, 4967, 1365,  151, 2306, 4710, 2984, 2918,  700, 1913,  974,\n",
       "       3429, 1925, 3237, 4075, 2221,  591, 1529, 1483, 1020, 2825,  271,\n",
       "       1194, 2934, 2292, 2834, 3212, 4806, 4411, 3221, 4758, 4278, 2443,\n",
       "       4176, 3065, 4298,  474, 4367, 4513, 1085, 1816, 3077, 3349, 1847,\n",
       "       4209,  567, 1021,   99, 1360, 1068, 4159, 4372, 3926, 2004, 3003,\n",
       "       1426, 2600, 1908, 4893, 4754, 1498, 1890, 2351,  963, 1743, 3126,\n",
       "       3546, 2764,  369, 2367, 2514, 1226,  467, 1573,   97, 1700, 1975,\n",
       "       4430,  330, 3078,  270, 1545, 4234, 4388, 4449,  985, 4834, 4981,\n",
       "       2987, 4306, 1415, 4277, 4914,   89,   33, 4262, 2156,  252, 4542,\n",
       "       1531, 1833, 4892, 2824, 3211, 4093, 4216, 4809,  669, 4492, 4549,\n",
       "        555, 4628, 2257, 3942, 2648, 2797, 3321,  421, 2684, 4401, 2138,\n",
       "       2859, 4737, 3244, 4363, 4818, 3061, 4163,  209, 1344,  653, 1289,\n",
       "       4342, 3210, 1927, 1396, 1371,  993, 4026, 3048, 4749, 3412, 1966,\n",
       "       4374, 3958, 3092, 3166, 1632, 2165,  557, 3117, 4480, 4435, 3020,\n",
       "       1011, 2047, 3128, 3664, 4842, 4210, 2544, 2747, 2329, 1532, 3038,\n",
       "       2939, 2313, 1067, 2233, 1048,  347, 4386, 3991, 3825, 2177,  431,\n",
       "       1030, 4969,  587, 1386, 4097,  319, 2086, 2903, 3063, 2298, 3383,\n",
       "       2056, 4871, 2192, 4299, 1724, 3948,  903, 4780, 2337, 2961,  617,\n",
       "        361, 4126,   59, 2993, 4264, 2294, 3712, 4373, 2186, 4143, 4371,\n",
       "       1216, 1746, 1120,  487,   25, 1176, 3534, 4993, 1774,  289, 3827,\n",
       "       2161, 1555, 3894, 1907, 2239, 2174, 2570, 1622, 3070, 2402,  380,\n",
       "       1476,  764, 2003, 1760, 2618, 4548, 1049, 2705, 1446,  280, 2622,\n",
       "        685, 1973, 3467, 1461, 4198, 2039, 1491,  281, 1900, 1974, 4927,\n",
       "       3022, 4028, 2983, 4605, 1891, 2277, 1428, 2509, 3985,  249, 2287,\n",
       "        135, 1457, 4802, 1543,  827, 4949,  958, 3530, 2372, 1185,  758,\n",
       "       3866, 3784,  532,  787, 3806,  109,  133, 1025, 3608, 1549, 2363,\n",
       "       3446, 2656, 4414, 4191, 1488, 2921,   79, 2612, 1790,  630, 4535,\n",
       "        662,  875,  278, 4445,  359, 1232, 2499, 4369, 2803, 1238, 2641,\n",
       "       3481, 4039, 3698, 1229, 2895, 4056, 2357, 1009,   36, 1063,  971,\n",
       "       3156, 3355,  470, 3322, 2725, 3165, 4898, 2431, 4755, 4009,  966,\n",
       "       1935,  920, 2785, 1372, 2421, 1901, 2129, 4301,  808, 4146, 2001,\n",
       "       2454, 3837,  225, 3361, 2229, 4829, 4880, 3747, 3032, 4826, 2226,\n",
       "       3356, 3449,  334, 1920,  132, 2342, 3573, 2755, 2095, 2456, 4895,\n",
       "        859,  222, 3152,  387, 1895, 1844, 1094, 3864, 3115,  535, 4438,\n",
       "       2389, 2485, 2340, 4279, 3906, 4471, 3536, 2406, 3710, 1572, 1408,\n",
       "       3270, 1015,   93, 2957, 2678, 2722, 3479, 1218, 1244, 4454,  851,\n",
       "       1116, 4290, 2143, 3259, 3796, 4978, 3147, 3422, 1354, 2864,  373,\n",
       "        850,  967, 3616, 2005, 3667, 1418, 2634, 3438, 1402, 1407, 2203,\n",
       "        119,  681,  534, 4611,  255, 2121, 2335, 2521, 2038, 4461, 2374,\n",
       "       2321, 1860, 4958, 1356, 1501, 2196,  946, 2652, 2798, 3252,  656,\n",
       "       3935, 4858,  104, 4963,  144,  689, 1075, 2244, 2452,  163,  273,\n",
       "       4153,  367, 2631,  762,  153, 2928, 2260, 2866, 2361,   58, 2980,\n",
       "        824, 3277, 1056, 1689,  707, 3959, 4243, 2398, 3571, 3294, 3920,\n",
       "       1340, 3425, 3937, 2268, 2735,  221, 3260, 4102, 4751, 2051, 1898,\n",
       "        698, 2577, 3808, 3250, 4439, 3626, 4027, 4984,  776,  839,   57,\n",
       "       3019,  748, 2995, 2488, 3799, 3114, 3485, 1450,  311, 4443, 2757,\n",
       "       3194, 2147, 3797,  659, 1320,  667, 3798,   18, 2567, 4996, 4381,\n",
       "       1335, 4771, 4446, 4644, 3351, 3941,  540,  433, 2788, 2212,  726,\n",
       "       1857, 4937,   98, 3719, 2985, 3426, 1590,  791,  245, 3120, 4495,\n",
       "        734, 2721, 1170, 4617, 4912, 2576,  831, 3654, 2096,  542, 3223,\n",
       "       1237, 2195, 3487, 2759, 4046, 3590, 4766,   65, 2723,  664, 4320,\n",
       "        207, 3138, 2123, 3727, 3618, 2023, 2706, 4569,  524,  171, 2022,\n",
       "       3872, 1825,  312,  680, 1872, 3672,  308, 1970, 1580, 3205, 2358,\n",
       "       2558,  521, 3510, 1866, 2748, 3315, 3317, 3789, 1369, 4076, 3354,\n",
       "       2084, 1616, 1593, 4420, 2781, 2944, 2910, 1571, 4110,  493, 4556,\n",
       "       1606, 1012, 4318, 2462,  327,  244, 2943, 2167, 1345, 3451, 1698,\n",
       "       2494, 4636, 2958, 2371, 4635, 2699, 1777, 1734, 1419,  274, 3468,\n",
       "        178, 2386, 1003, 4745, 3975, 4344, 2671,  807,  785, 3743, 4688,\n",
       "       1061, 2423, 2971, 3220,  556, 1324, 3729, 2385, 4120, 1607,   76,\n",
       "       1361, 2689, 1331, 2453, 1926,  592, 3524, 3099, 2822,  784, 3445,\n",
       "       3170, 4139, 4331, 3874, 4357, 1544, 3567, 2020, 3243, 2869, 2043,\n",
       "       4974, 1200, 1577, 3505, 4723, 1477, 4447,  475, 4760,  490, 3327,\n",
       "       2291, 4168, 3685, 1252,   12, 2598, 3905, 1469, 1097, 2938,  158,\n",
       "       1330, 2907,  325,  275,  631, 1187,  131, 2566, 1474,  970, 2194,\n",
       "       4757, 1414,  768, 1874, 1863, 2692, 2029,  395, 2978,  492, 2745,\n",
       "        232, 3492, 1855,  611, 3790, 3303, 4550, 4838, 2322, 2368,  265,\n",
       "        108, 1618, 2649, 3686, 2273,   94, 1672, 1525, 2662, 2526, 2255,\n",
       "       3402,  140, 2560, 3198, 3785, 3025, 4345, 4403, 1732, 4899, 2353,\n",
       "       4018, 3893,  504, 4462, 4230, 1077, 4147, 2883, 1758, 3516],\n",
       "      dtype=int64)"
      ]
     },
     "execution_count": 18,
     "metadata": {},
     "output_type": "execute_result"
    }
   ],
   "execution_count": 18
  }
 ],
 "metadata": {
  "kernelspec": {
   "display_name": "Python 3",
   "language": "python",
   "name": "python3"
  },
  "language_info": {
   "codemirror_mode": {
    "name": "ipython",
    "version": 2
   },
   "file_extension": ".py",
   "mimetype": "text/x-python",
   "name": "python",
   "nbconvert_exporter": "python",
   "pygments_lexer": "ipython2",
   "version": "2.7.6"
  }
 },
 "nbformat": 4,
 "nbformat_minor": 5
}
